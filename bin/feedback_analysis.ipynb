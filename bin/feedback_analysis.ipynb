{
 "cells": [
  {
   "cell_type": "code",
   "execution_count": 5,
   "metadata": {
    "collapsed": false,
    "deletable": true,
    "editable": true
   },
   "outputs": [
    {
     "name": "stdout",
     "output_type": "stream",
     "text": [
      "Populating the interactive namespace from numpy and matplotlib\n"
     ]
    }
   ],
   "source": [
    "%pylab inline\n",
    "# import gensim\n",
    "import pickle\n",
    "from nltk.corpus import stopwords\n",
    "from os import listdir\n",
    "from os.path import isfile, join\n",
    "import os\n",
    "import random\n",
    "# from gensim import utils\n",
    "# from gensim.models.doc2vec import LabeledSentence\n",
    "# from gensim.models import Doc2Vec\n",
    "from sklearn.manifold import TSNE\n",
    "from nltk.corpus import stopwords\n",
    "from nltk.classify import NaiveBayesClassifier\n",
    "from nltk.corpus import subjectivity\n",
    "from nltk.sentiment import SentimentAnalyzer\n",
    "from nltk.sentiment.util import *\n",
    "import subprocess\n",
    "import pprint\n",
    "from nltk.tokenize import RegexpTokenizer\n",
    "from nltk.stem.porter import PorterStemmer\n",
    "from gensim import corpora, models\n",
    "import gensim"
   ]
  },
  {
   "cell_type": "code",
   "execution_count": 6,
   "metadata": {
    "collapsed": false,
    "deletable": true,
    "editable": true
   },
   "outputs": [
    {
     "name": "stdout",
     "output_type": "stream",
     "text": [
      "/Users/Han/Dropbox/CS565/Assignment_5_NLTK/data\n"
     ]
    }
   ],
   "source": [
    "cd ../data/"
   ]
  },
  {
   "cell_type": "code",
   "execution_count": 7,
   "metadata": {
    "collapsed": true,
    "deletable": true,
    "editable": true
   },
   "outputs": [],
   "source": [
    "stop_words = ['a', 'about', 'above', 'after', 'again', 'against', 'all', 'am', 'an', 'and', 'any', 'are', \"aren't\", 'as', 'at', 'be', 'because', 'been', 'before', 'being', 'below', 'between', 'both', 'but', 'by', \"can't\", 'cannot', 'could', \"couldn't\", 'did', \"didn't\", 'do', 'does', \"doesn't\", 'doing', \"don't\", 'down', 'during', 'each', 'few', 'for', 'from', 'further', 'had', \"hadn't\", 'has', \"hasn't\", 'have', \"haven't\", 'having', 'he', \"he'd\", \"he'll\", \"he's\", 'her', 'here', \"here's\", 'hers', 'herself', 'him', 'himself', 'his', 'how', \"how's\", 'i', \"i'd\", \"i'll\", \"i'm\", \"i've\", 'if', 'in', 'into', 'is', \"isn't\", 'it', \"it's\", 'its', 'itself', \"let's\", 'me', 'more', 'most', \"mustn't\", 'my', 'myself', 'no', 'nor', 'not', 'of', 'off', 'on', 'once', 'only', 'or', 'other', 'ought', 'our', 'ours', 'ourselves', 'out', 'over', 'own', 'same', \"shan't\", 'she', \"she'd\", \"she'll\", \"she's\", 'should', \"shouldn't\", 'so', 'some', 'such', 'than', 'that', \"that's\", 'the', 'their', 'theirs', 'them', 'themselves', 'then', 'there', \"there's\", 'these', 'they', \"they'd\", \"they'll\", \"they're\", \"they've\", 'this', 'those', 'through', 'to', 'too', 'under', 'until', 'up', 'very', 'was', \"wasn't\", 'we', \"we'd\", \"we'll\", \"we're\", \"we've\", 'were', \"weren't\", 'what', \"what's\", 'when', \"when's\", 'where', \"where's\", 'which', 'while', 'who', \"who's\", 'whom', 'why', \"why's\", 'with', \"won't\", 'would', \"wouldn't\", 'you', \"you'd\", \"you'll\", \"you're\", \"you've\", 'your', 'yours', 'yourself', 'yourselves']"
   ]
  },
  {
   "cell_type": "code",
   "execution_count": 37,
   "metadata": {
    "collapsed": false,
    "deletable": true,
    "editable": true
   },
   "outputs": [
    {
     "name": "stdout",
     "output_type": "stream",
     "text": [
      "cond1.txt\n",
      "Number of feedbacks: 20\n",
      "Avg length in condtion: 410\n",
      "Total Length of this condition: 8211\n",
      "Length of each feedbacks: [182, 167, 254, 1089, 475, 434, 94, 736, 287, 219, 307, 198, 395, 1356, 218, 116, 605, 168, 693, 218]\n",
      "Sentiment Analysis result: Pos:13, 65.0% Neg:7, 35.0%\n",
      "Sentiment Analysis: ['{\"probability\": {\"neg\": 0.40190678287460635, \"neutral\": 0.078748292318458896, \"pos\": 0.59809321712539365}, \"label\": \"pos\"}', '{\"probability\": {\"neg\": 0.30008656761709496, \"neutral\": 0.047589758211190748, \"pos\": 0.69991343238290504}, \"label\": \"pos\"}', '{\"probability\": {\"neg\": 0.25945613553375546, \"neutral\": 0.18281997402031125, \"pos\": 0.74054386446624454}, \"label\": \"pos\"}', '{\"probability\": {\"neg\": 0.71237293237965071, \"neutral\": 0.20663094817992209, \"pos\": 0.28762706762034929}, \"label\": \"neg\"}', '{\"probability\": {\"neg\": 0.45580488719354006, \"neutral\": 0.19570584535526417, \"pos\": 0.54419511280645994}, \"label\": \"pos\"}', '{\"probability\": {\"neg\": 0.50654242723240883, \"neutral\": 0.20680000854428848, \"pos\": 0.49345757276759122}, \"label\": \"neg\"}', '{\"probability\": {\"neg\": 0.38212423313938793, \"neutral\": 0.067121907960186064, \"pos\": 0.61787576686061207}, \"label\": \"pos\"}', '{\"probability\": {\"neg\": 0.43608296936901647, \"neutral\": 0.16433661153265131, \"pos\": 0.56391703063098353}, \"label\": \"pos\"}', '{\"probability\": {\"neg\": 0.17229711339808351, \"neutral\": 0.13963364273724069, \"pos\": 0.82770288660191649}, \"label\": \"pos\"}', '{\"probability\": {\"neg\": 0.12597662615916994, \"neutral\": 0.11060751129358008, \"pos\": 0.87402337384083006}, \"label\": \"pos\"}', '{\"probability\": {\"neg\": 0.24356782762451401, \"neutral\": 0.17233419035193739, \"pos\": 0.75643217237548599}, \"label\": \"pos\"}', '{\"probability\": {\"neg\": 0.53855835243749417, \"neutral\": 0.239503542567408, \"pos\": 0.46144164756250583}, \"label\": \"neg\"}', '{\"probability\": {\"neg\": 0.67316231398829873, \"neutral\": 0.16207680294230917, \"pos\": 0.32683768601170127}, \"label\": \"neg\"}', '{\"probability\": {\"neg\": 0.44325155165815966, \"neutral\": 0.14138639248957943, \"pos\": 0.55674844834184034}, \"label\": \"pos\"}', '{\"probability\": {\"neg\": 0.4014228287896302, \"neutral\": 0.088315915288966221, \"pos\": 0.5985771712103698}, \"label\": \"pos\"}', '{\"probability\": {\"neg\": 0.43237125089150907, \"neutral\": 0.89426581282261097, \"pos\": 0.56762874910849093}, \"label\": \"neutral\"}', '{\"probability\": {\"neg\": 0.42576485553662236, \"neutral\": 0.1513888899495219, \"pos\": 0.57423514446337764}, \"label\": \"pos\"}', '{\"probability\": {\"neg\": 0.31009935214064344, \"neutral\": 0.56048460225356056, \"pos\": 0.68990064785935656}, \"label\": \"neutral\"}', '{\"probability\": {\"neg\": 0.13693507790889248, \"neutral\": 0.14627557242039244, \"pos\": 0.86306492209110752}, \"label\": \"pos\"}', '{\"probability\": {\"neg\": 0.71969284870297356, \"neutral\": 0.11487164576740666, \"pos\": 0.28030715129702644}, \"label\": \"neg\"}']\n",
      "\n",
      "\n",
      "cond2.txt\n",
      "Number of feedbacks: 14\n",
      "Avg length in condtion: 388\n",
      "Total Length of this condition: 5441\n",
      "Length of each feedbacks: [364, 225, 445, 191, 219, 73, 1084, 464, 449, 37, 738, 293, 152, 707]\n",
      "Sentiment Analysis result: Pos:10, 71.4285714286% Neg:4, 28.5714285714%\n",
      "Sentiment Analysis: ['{\"probability\": {\"neg\": 0.3044070283050665, \"neutral\": 0.12809865040248167, \"pos\": 0.6955929716949335}, \"label\": \"pos\"}', '{\"probability\": {\"neg\": 0.48264214411206641, \"neutral\": 0.12888987371914404, \"pos\": 0.51735785588793359}, \"label\": \"pos\"}', '{\"probability\": {\"neg\": 0.16524103817338209, \"neutral\": 0.21968029963842262, \"pos\": 0.83475896182661791}, \"label\": \"pos\"}', '{\"probability\": {\"neg\": 0.55556885183657401, \"neutral\": 0.17591803484181567, \"pos\": 0.44443114816342599}, \"label\": \"neg\"}', '{\"probability\": {\"neg\": 0.36495156331365963, \"neutral\": 0.2411874905763437, \"pos\": 0.63504843668634037}, \"label\": \"pos\"}', '{\"probability\": {\"neg\": 0.47416017167468794, \"neutral\": 0.38670748963479568, \"pos\": 0.52583982832531206}, \"label\": \"pos\"}', '{\"probability\": {\"neg\": 0.72900945250898541, \"neutral\": 0.17763256944736636, \"pos\": 0.27099054749101459}, \"label\": \"neg\"}', '{\"probability\": {\"neg\": 0.52859605329672521, \"neutral\": 0.214957390967593, \"pos\": 0.47140394670327479}, \"label\": \"neg\"}', '{\"probability\": {\"neg\": 0.82672917745782037, \"neutral\": 0.13641039779272193, \"pos\": 0.17327082254217963}, \"label\": \"neg\"}', '{\"probability\": {\"neg\": 0.33899346939313313, \"neutral\": 0.23269511591169678, \"pos\": 0.66100653060686687}, \"label\": \"pos\"}', '{\"probability\": {\"neg\": 0.35016138375983741, \"neutral\": 0.21557314384195006, \"pos\": 0.64983861624016259}, \"label\": \"pos\"}', '{\"probability\": {\"neg\": 0.4593453750230172, \"neutral\": 0.16983762032424862, \"pos\": 0.5406546249769828}, \"label\": \"pos\"}', '{\"probability\": {\"neg\": 0.41501029386353294, \"neutral\": 0.21458628533517424, \"pos\": 0.58498970613646706}, \"label\": \"pos\"}', '{\"probability\": {\"neg\": 0.38337091192042272, \"neutral\": 0.140188000698136, \"pos\": 0.61662908807957728}, \"label\": \"pos\"}']\n",
      "\n",
      "\n",
      "cond3.txt\n",
      "Number of feedbacks: 15\n",
      "Avg length in condtion: 376\n",
      "Total Length of this condition: 5645\n",
      "Length of each feedbacks: [532, 379, 317, 165, 1001, 626, 143, 627, 631, 185, 202, 519, 118, 114, 86]\n",
      "Sentiment Analysis result: Pos:7, 46.6666666667% Neg:8, 53.3333333333%\n",
      "Sentiment Analysis: ['{\"probability\": {\"neg\": 0.65766561021918091, \"neutral\": 0.11643319241523363, \"pos\": 0.34233438978081909}, \"label\": \"neg\"}', '{\"probability\": {\"neg\": 0.25938560771903496, \"neutral\": 0.16932341342860016, \"pos\": 0.74061439228096504}, \"label\": \"pos\"}', '{\"probability\": {\"neg\": 0.80679394268753679, \"neutral\": 0.13699582352966336, \"pos\": 0.19320605731246326}, \"label\": \"neg\"}', '{\"probability\": {\"neg\": 0.45381969727649718, \"neutral\": 0.1504200623080752, \"pos\": 0.54618030272350282}, \"label\": \"pos\"}', '{\"probability\": {\"neg\": 0.89113740087411675, \"neutral\": 0.1375729543150693, \"pos\": 0.10886259912588322}, \"label\": \"neg\"}', '{\"probability\": {\"neg\": 0.65664361912403002, \"neutral\": 0.17749794572363964, \"pos\": 0.34335638087596998}, \"label\": \"neg\"}', '{\"probability\": {\"neg\": 0.40348501290296712, \"neutral\": 0.19731121290854139, \"pos\": 0.59651498709703288}, \"label\": \"pos\"}', '{\"probability\": {\"neg\": 0.7038335780138647, \"neutral\": 0.16061305384315214, \"pos\": 0.29616642198613524}, \"label\": \"neg\"}', '{\"probability\": {\"neg\": 0.36339560221978839, \"neutral\": 0.22904670870960464, \"pos\": 0.63660439778021161}, \"label\": \"pos\"}', '{\"probability\": {\"neg\": 0.30242438593353071, \"neutral\": 0.16975724391046679, \"pos\": 0.69757561406646929}, \"label\": \"pos\"}', '{\"probability\": {\"neg\": 0.37601253804373735, \"neutral\": 0.34813844401681227, \"pos\": 0.62398746195626265}, \"label\": \"pos\"}', '{\"probability\": {\"neg\": 0.45177807350073806, \"neutral\": 0.14099505063878698, \"pos\": 0.54822192649926194}, \"label\": \"pos\"}', '{\"probability\": {\"neg\": 0.74315158332195108, \"neutral\": 0.22036223454162393, \"pos\": 0.25684841667804886}, \"label\": \"neg\"}', '{\"probability\": {\"neg\": 0.90033618040521013, \"neutral\": 0.090935166134479675, \"pos\": 0.099663819594789857}, \"label\": \"neg\"}', '{\"probability\": {\"neg\": 0.75113675839024752, \"neutral\": 0.37359033170767769, \"pos\": 0.24886324160975243}, \"label\": \"neg\"}']\n",
      "\n",
      "\n",
      "cond4.txt\n",
      "Number of feedbacks: 15\n",
      "Avg length in condtion: 256\n",
      "Total Length of this condition: 3843\n",
      "Length of each feedbacks: [154, 125, 96, 451, 311, 255, 159, 302, 172, 392, 151, 95, 193, 470, 517]\n",
      "Sentiment Analysis result: Pos:8, 53.3333333333% Neg:7, 46.6666666667%\n",
      "Sentiment Analysis: ['{\"probability\": {\"neg\": 0.66417295094926554, \"neutral\": 0.14998382266115842, \"pos\": 0.33582704905073446}, \"label\": \"neg\"}', '{\"probability\": {\"neg\": 0.80396230971601923, \"neutral\": 0.00082717235778648158, \"pos\": 0.19603769028398074}, \"label\": \"neg\"}', '{\"probability\": {\"neg\": 0.79683393907691447, \"neutral\": 0.0081749956383410927, \"pos\": 0.20316606092308553}, \"label\": \"neg\"}', '{\"probability\": {\"neg\": 0.35803495345377678, \"neutral\": 0.1166832292715369, \"pos\": 0.64196504654622322}, \"label\": \"pos\"}', '{\"probability\": {\"neg\": 0.67605621348180445, \"neutral\": 0.14167873968090408, \"pos\": 0.3239437865181955}, \"label\": \"neg\"}', '{\"probability\": {\"neg\": 0.70146270664391919, \"neutral\": 0.075007175541087059, \"pos\": 0.29853729335608081}, \"label\": \"neg\"}', '{\"probability\": {\"neg\": 0.66884869938715019, \"neutral\": 0.17541825677414066, \"pos\": 0.33115130061284981}, \"label\": \"neg\"}', '{\"probability\": {\"neg\": 0.1544006539445798, \"neutral\": 0.16472364590554409, \"pos\": 0.8455993460554202}, \"label\": \"pos\"}', '{\"probability\": {\"neg\": 0.50866130821199551, \"neutral\": 0.17952854837907004, \"pos\": 0.49133869178800449}, \"label\": \"neg\"}', '{\"probability\": {\"neg\": 0.12771325837094194, \"neutral\": 0.14474366122856538, \"pos\": 0.87228674162905806}, \"label\": \"pos\"}', '{\"probability\": {\"neg\": 0.45854486584065235, \"neutral\": 0.12501033655056698, \"pos\": 0.54145513415934765}, \"label\": \"pos\"}', '{\"probability\": {\"neg\": 0.2286270088170419, \"neutral\": 0.3007582620224229, \"pos\": 0.7713729911829581}, \"label\": \"pos\"}', '{\"probability\": {\"neg\": 0.458250232394118, \"neutral\": 0.19532637881207848, \"pos\": 0.541749767605882}, \"label\": \"pos\"}', '{\"probability\": {\"neg\": 0.15246756968838637, \"neutral\": 0.12100416959070341, \"pos\": 0.84753243031161363}, \"label\": \"pos\"}', '{\"probability\": {\"neg\": 0.40262563157952791, \"neutral\": 0.13062648911426963, \"pos\": 0.59737436842047209}, \"label\": \"pos\"}']\n",
      "\n",
      "\n"
     ]
    }
   ],
   "source": [
    "output_file = \"output.txt\"\n",
    "\n",
    "of = open(output_file, \"w\")\n",
    "sentiment_a = 'curl -d \"text='\n",
    "sentiment_b = '\" http://text-processing.com/api/sentiment/'\n",
    "\n",
    "for filename in [\"cond1.txt\",\"cond2.txt\",\"cond3.txt\",\"cond4.txt\"]:\n",
    "# def analysis(input_file):\n",
    "    \n",
    "#     filename = \"cond1.txt\"\n",
    "    cf = open(filename)\n",
    "    clines = cf.readlines()\n",
    "\n",
    "\n",
    "    print filename\n",
    "    of.write(filename+\"\\n\")\n",
    "\n",
    "\n",
    "    total_len = 0\n",
    "    eachline_len = []\n",
    "    Sentiment_Analysis = []\n",
    "\n",
    "    for each_line in clines:\n",
    "        each_line = each_line.replace('\"',' ')\n",
    "        curr_len = len(each_line)\n",
    "        eachline_len.append(curr_len)\n",
    "        total_len += curr_len\n",
    "        # how to access curl in python\n",
    "        tpm_sentiment = subprocess.check_output(sentiment_a+each_line+sentiment_b, shell=True)\n",
    "        Sentiment_Analysis.append(tpm_sentiment)\n",
    "#         print tpm_sentiment\n",
    "        \n",
    "\n",
    "    pos = 0\n",
    "    neg = 0\n",
    "    \n",
    "    for each_feedback in Sentiment_Analysis:\n",
    "        if '\"label\": \"pos\"' in each_feedback:\n",
    "#             print \"yes\"\n",
    "            pos += 1\n",
    "        else: \n",
    "#             print \"no\"\n",
    "            neg += 1\n",
    "    total = float(pos)+float(neg)\n",
    "    pos_per = str(float(pos)/float(total) * 100) + \"%\"\n",
    "    neg_per = str(float(neg)/float(total) * 100) + \"%\"\n",
    "    \n",
    "    print \"Number of feedbacks: \"+str(len(clines))\n",
    "    of.write(\"Number of feedbacks: \"+str(len(clines))+\"\\n\")\n",
    "\n",
    "    \n",
    "    if len(eachline_len) != 0:\n",
    "        avg_len = reduce(lambda x, y: x + y, eachline_len) / len(eachline_len) \n",
    "    \n",
    "    print \"Avg length in condtion: \" + str(avg_len)\n",
    "    of.write(\"Avg length in condtion: \" + str(avg_len)+\"\\n\")\n",
    "\n",
    "    print \"Total Length of this condition: \" + str(total_len)\n",
    "    of.write(\"Total Length of this condition: \" + str(total_len)+\"\\n\")   \n",
    "    \n",
    "    print \"Length of each feedbacks: \" + str(eachline_len)\n",
    "    of.write(\"Length of each feedbacks: \" + str(eachline_len)+\"\\n\")\n",
    "\n",
    "    print \"Sentiment Analysis result: Pos:\" + str(pos) +\", \"+ pos_per + \" Neg:\"+ str(neg) +\", \"+ neg_per \n",
    "    of.write(\"Sentiment Analysis result: \" + str(pos) +\", \"+ pos_per + \" Neg:\"+ str(neg) +\", \"+ neg_per +\"\\n\")  \n",
    "    \n",
    "    print \"Sentiment Analysis: \" + str(Sentiment_Analysis)\n",
    "    of.write(\"Sentiment Analysis: \" + str(Sentiment_Analysis)+\"\\n\")\n",
    "    \n",
    "\n",
    "    # clean the Stop words\n",
    "    text_new_list = []\n",
    "    for i in np.arange(len(clines)): \n",
    "        text_new_list.append(filter(lambda x : x.lower() not in stop_words, clines[i].split()))\n",
    "\n",
    "    \n",
    "    \n",
    "    \n",
    "    print \"\\n\"\n",
    "    of.write(\"\\n\")"
   ]
  },
  {
   "cell_type": "code",
   "execution_count": 9,
   "metadata": {
    "collapsed": true,
    "deletable": true,
    "editable": true
   },
   "outputs": [],
   "source": [
    "of.close()"
   ]
  },
  {
   "cell_type": "code",
   "execution_count": 42,
   "metadata": {
    "collapsed": false,
    "deletable": true,
    "editable": true
   },
   "outputs": [
    {
     "name": "stdout",
     "output_type": "stream",
     "text": [
      "{\"probability\": {\"neg\": 0.4631560052535546, \"neutral\": 0.53606272018248158, \"pos\": 0.5368439947464454}, \"label\": \"neutral\"}\n"
     ]
    }
   ],
   "source": [
    "test = subprocess.check_output('curl -d \"text=The webkes see\" http://text-processing.com/api/sentiment/', shell=True)\n",
    "print test"
   ]
  }
 ],
 "metadata": {
  "kernelspec": {
   "display_name": "Python 2",
   "language": "python",
   "name": "python2"
  },
  "language_info": {
   "codemirror_mode": {
    "name": "ipython",
    "version": 2
   },
   "file_extension": ".py",
   "mimetype": "text/x-python",
   "name": "python",
   "nbconvert_exporter": "python",
   "pygments_lexer": "ipython2",
   "version": "2.7.10"
  }
 },
 "nbformat": 4,
 "nbformat_minor": 2
}
